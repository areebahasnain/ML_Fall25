{
 "cells": [
  {
   "cell_type": "code",
   "execution_count": 95,
   "id": "3e2932f2",
   "metadata": {},
   "outputs": [],
   "source": [
    "from sklearn.datasets import load_breast_cancer, load_wine\n",
    "from sklearn.model_selection import train_test_split\n",
    "from sklearn.tree import DecisionTreeClassifier\n",
    "from sklearn.metrics import accuracy_score\n",
    "from sklearn.preprocessing import LabelEncoder\n",
    "import pandas as pd\n",
    "import matplotlib.pyplot as plt"
   ]
  },
  {
   "cell_type": "code",
   "execution_count": 96,
   "id": "6434686d",
   "metadata": {},
   "outputs": [
    {
     "name": "stdout",
     "output_type": "stream",
     "text": [
      "Index(['age', 'job', 'marital', 'education', 'default', 'balance', 'housing',\n",
      "       'loan', 'contact', 'day', 'month', 'duration', 'campaign', 'pdays',\n",
      "       'previous', 'poutcome', 'y'],\n",
      "      dtype='object')\n",
      "Index(['fixed acidity', 'volatile acidity', 'citric acid', 'residual sugar',\n",
      "       'chlorides', 'free sulfur dioxide', 'total sulfur dioxide', 'density',\n",
      "       'pH', 'sulphates', 'alcohol', 'quality'],\n",
      "      dtype='object')\n"
     ]
    }
   ],
   "source": [
    "bank = pd.read_csv('bank.csv', sep=';')\n",
    "print(bank.columns)\n",
    "\n",
    "wine = pd.read_csv('winequality-red.csv', sep=';')\n",
    "print(wine.columns)"
   ]
  },
  {
   "cell_type": "code",
   "execution_count": 97,
   "id": "30f8a00c",
   "metadata": {},
   "outputs": [
    {
     "name": "stdout",
     "output_type": "stream",
     "text": [
      "Bank:\n",
      "    age          job  marital  education default  balance housing loan  \\\n",
      "0   30   unemployed  married    primary      no     1787      no   no   \n",
      "1   33     services  married  secondary      no     4789     yes  yes   \n",
      "2   35   management   single   tertiary      no     1350     yes   no   \n",
      "3   30   management  married   tertiary      no     1476     yes  yes   \n",
      "4   59  blue-collar  married  secondary      no        0     yes   no   \n",
      "\n",
      "    contact  day month  duration  campaign  pdays  previous poutcome   y  \n",
      "0  cellular   19   oct        79         1     -1         0  unknown  no  \n",
      "1  cellular   11   may       220         1    339         4  failure  no  \n",
      "2  cellular   16   apr       185         1    330         1  failure  no  \n",
      "3   unknown    3   jun       199         4     -1         0  unknown  no  \n",
      "4   unknown    5   may       226         1     -1         0  unknown  no  \n",
      "\n",
      "Wine:\n",
      "    fixed acidity  volatile acidity  citric acid  residual sugar  chlorides  \\\n",
      "0            7.4              0.70         0.00             1.9      0.076   \n",
      "1            7.8              0.88         0.00             2.6      0.098   \n",
      "2            7.8              0.76         0.04             2.3      0.092   \n",
      "3           11.2              0.28         0.56             1.9      0.075   \n",
      "4            7.4              0.70         0.00             1.9      0.076   \n",
      "\n",
      "   free sulfur dioxide  total sulfur dioxide  density    pH  sulphates  \\\n",
      "0                 11.0                  34.0   0.9978  3.51       0.56   \n",
      "1                 25.0                  67.0   0.9968  3.20       0.68   \n",
      "2                 15.0                  54.0   0.9970  3.26       0.65   \n",
      "3                 17.0                  60.0   0.9980  3.16       0.58   \n",
      "4                 11.0                  34.0   0.9978  3.51       0.56   \n",
      "\n",
      "   alcohol  quality  \n",
      "0      9.4        5  \n",
      "1      9.8        5  \n",
      "2      9.8        5  \n",
      "3      9.8        6  \n",
      "4      9.4        5  \n"
     ]
    }
   ],
   "source": [
    "print(\"Bank:\\n\", bank.head())\n",
    "print(\"\\nWine:\\n\",wine.head())"
   ]
  },
  {
   "cell_type": "code",
   "execution_count": 98,
   "id": "c28d7985",
   "metadata": {},
   "outputs": [
    {
     "name": "stdout",
     "output_type": "stream",
     "text": [
      "Bank after encoding:\n",
      "    age  job  marital  education  default  balance  housing  loan  contact  \\\n",
      "0   30   10        1          0        0     1787        0     0        0   \n",
      "1   33    7        1          1        0     4789        1     1        0   \n",
      "2   35    4        2          2        0     1350        1     0        0   \n",
      "3   30    4        1          2        0     1476        1     1        2   \n",
      "4   59    1        1          1        0        0        1     0        2   \n",
      "\n",
      "   day  month  duration  campaign  pdays  previous  poutcome  y  \n",
      "0   19     10        79         1     -1         0         3  0  \n",
      "1   11      8       220         1    339         4         0  0  \n",
      "2   16      0       185         1    330         1         0  0  \n",
      "3    3      6       199         4     -1         0         3  0  \n",
      "4    5      8       226         1     -1         0         3  0  \n"
     ]
    }
   ],
   "source": [
    "le = LabelEncoder()\n",
    "\n",
    "# bank.csv\n",
    "bank = bank.copy()\n",
    "for col in bank.columns:\n",
    "    if bank[col].dtype == 'object':\n",
    "        bank[col] = le.fit_transform(bank[col])\n",
    "\n",
    "print(\"Bank after encoding:\\n\",bank.head())\n",
    "\n",
    "x_bank = bank.drop('y', axis=1)\n",
    "y_bank = bank['y']\n",
    "\n",
    "# wine.csv\n",
    "x_wine = wine.drop('quality', axis=1)\n",
    "y_wine = wine['quality'] "
   ]
  },
  {
   "cell_type": "code",
   "execution_count": 99,
   "id": "c6f15cb3",
   "metadata": {},
   "outputs": [],
   "source": [
    "xb_train, xb_test, yb_train, yb_test = train_test_split(x_bank, y_bank, test_size=0.2, random_state=0)\n",
    "xw_train, xw_test, yw_train, yw_test = train_test_split(x_wine, y_wine, test_size=0.2, random_state=0)"
   ]
  },
  {
   "cell_type": "code",
   "execution_count": 100,
   "id": "fccdbf24",
   "metadata": {},
   "outputs": [],
   "source": [
    "# Bank Dataset\n",
    "dt_gini_bank = DecisionTreeClassifier(criterion='gini', random_state=0)\n",
    "dt_gini_bank.fit(xb_train, yb_train)\n",
    "yb_pred_gini = dt_gini_bank.predict(xb_test)\n",
    "\n",
    "bank_train_gini = accuracy_score(yb_train, dt_gini_bank.predict(xb_train))\n",
    "bank_test_gini = accuracy_score(yb_test, yb_pred_gini)\n",
    "\n",
    "# Wine Dataset\n",
    "dt_gini_wine = DecisionTreeClassifier(criterion='gini', random_state=0)\n",
    "dt_gini_wine.fit(xw_train, yw_train)\n",
    "yw_pred_gini = dt_gini_wine.predict(xw_test)\n",
    "\n",
    "wine_train_gini = accuracy_score(yw_train, dt_gini_wine.predict(xw_train))\n",
    "wine_test_gini = accuracy_score(yw_test, yw_pred_gini)\n"
   ]
  },
  {
   "cell_type": "code",
   "execution_count": 101,
   "id": "86bd5550",
   "metadata": {},
   "outputs": [],
   "source": [
    "# Bank Dataset\n",
    "dt_gini_prune_bank = DecisionTreeClassifier(criterion='gini', random_state=0, ccp_alpha=0.015)\n",
    "dt_gini_prune_bank.fit(xb_train, yb_train)\n",
    "yb_pred_gini_prune = dt_gini_prune_bank.predict(xb_test)\n",
    "\n",
    "bank_train_gini_prune = accuracy_score(yb_train, dt_gini_prune_bank.predict(xb_train))\n",
    "bank_test_gini_prune = accuracy_score(yb_test, yb_pred_gini_prune)\n",
    "\n",
    "# Wine Dataset\n",
    "dt_gini_prune_wine = DecisionTreeClassifier(criterion='gini', random_state=0, ccp_alpha=0.015)\n",
    "dt_gini_prune_wine.fit(xw_train, yw_train)\n",
    "yw_pred_gini_prune = dt_gini_prune_wine.predict(xw_test)\n",
    "\n",
    "wine_train_gini_prune = accuracy_score(yw_train, dt_gini_prune_wine.predict(xw_train))\n",
    "wine_test_gini_prune = accuracy_score(yw_test, yw_pred_gini_prune)\n"
   ]
  },
  {
   "cell_type": "code",
   "execution_count": 102,
   "id": "c55560ca",
   "metadata": {},
   "outputs": [],
   "source": [
    "# Bank Dataset\n",
    "dt_entropy_bank = DecisionTreeClassifier(criterion='entropy', random_state=0)\n",
    "dt_entropy_bank.fit(xb_train, yb_train)\n",
    "yb_pred_entropy = dt_entropy_bank.predict(xb_test)\n",
    "\n",
    "bank_train_entropy = accuracy_score(yb_train, dt_entropy_bank.predict(xb_train))\n",
    "bank_test_entropy = accuracy_score(yb_test, yb_pred_entropy)\n",
    "\n",
    "# Wine Dataset\n",
    "dt_entropy_wine = DecisionTreeClassifier(criterion='entropy', random_state=0)\n",
    "dt_entropy_wine.fit(xw_train, yw_train)\n",
    "yw_pred_entropy = dt_entropy_wine.predict(xw_test)\n",
    "\n",
    "wine_train_entropy = accuracy_score(yw_train, dt_entropy_wine.predict(xw_train))\n",
    "wine_test_entropy = accuracy_score(yw_test, yw_pred_entropy)\n"
   ]
  },
  {
   "cell_type": "code",
   "execution_count": 103,
   "id": "de52d3cb",
   "metadata": {},
   "outputs": [],
   "source": [
    "# Bank Dataset\n",
    "dt_entropy_prune_bank = DecisionTreeClassifier(criterion='entropy', random_state=0, ccp_alpha=0.015)\n",
    "dt_entropy_prune_bank.fit(xb_train, yb_train)\n",
    "yb_pred_entropy_prune = dt_entropy_prune_bank.predict(xb_test)\n",
    "\n",
    "bank_train_entropy_prune = accuracy_score(yb_train, dt_entropy_prune_bank.predict(xb_train))\n",
    "bank_test_entropy_prune = accuracy_score(yb_test, yb_pred_entropy_prune)\n",
    "\n",
    "# Wine Dataset\n",
    "dt_entropy_prune_wine = DecisionTreeClassifier(criterion='entropy', random_state=0, ccp_alpha=0.015)\n",
    "dt_entropy_prune_wine.fit(xw_train, yw_train)\n",
    "yw_pred_entropy_prune = dt_entropy_prune_wine.predict(xw_test)\n",
    "\n",
    "wine_train_entropy_prune = accuracy_score(yw_train, dt_entropy_prune_wine.predict(xw_train))\n",
    "wine_test_entropy_prune = accuracy_score(yw_test, yw_pred_entropy_prune)"
   ]
  },
  {
   "cell_type": "code",
   "execution_count": 104,
   "id": "d1e3449e",
   "metadata": {},
   "outputs": [
    {
     "name": "stdout",
     "output_type": "stream",
     "text": [
      "                   Model  Bank_Train  Bank_Test  Wine_Train  Wine_Test\n",
      "0     DT Gini (no prune)    1.000000   0.870718    1.000000   0.693750\n",
      "1       DT Gini (pruned)    0.887168   0.876243    0.548866   0.593750\n",
      "2  DT Entropy (no prune)    1.000000   0.851934    1.000000   0.634375\n",
      "3    DT Entropy (pruned)    0.887168   0.876243    0.587177   0.565625\n"
     ]
    }
   ],
   "source": [
    "import pandas as pd\n",
    "\n",
    "results = {\n",
    "    'Model': ['DT Gini (no prune)', 'DT Gini (pruned)', 'DT Entropy (no prune)', 'DT Entropy (pruned)'],\n",
    "    'Bank_Train': [bank_train_gini, bank_train_gini_prune, bank_train_entropy, bank_train_entropy_prune],\n",
    "    'Bank_Test': [bank_test_gini, bank_test_gini_prune, bank_test_entropy, bank_test_entropy_prune],\n",
    "    'Wine_Train': [wine_train_gini, wine_train_gini_prune, wine_train_entropy, wine_train_entropy_prune],\n",
    "    'Wine_Test': [wine_test_gini, wine_test_gini_prune, wine_test_entropy, wine_test_entropy_prune]\n",
    "}\n",
    "\n",
    "df_results = pd.DataFrame(results)\n",
    "print(df_results)\n"
   ]
  },
  {
   "cell_type": "code",
   "execution_count": 105,
   "id": "500a748f",
   "metadata": {},
   "outputs": [
    {
     "name": "stdout",
     "output_type": "stream",
     "text": [
      "Actual vs Predicted (Entropy + Pruned, Wine Dataset)\n",
      "\n",
      "   Actual Output  Predictions\n",
      "0              6            6\n",
      "1              5            5\n",
      "2              7            7\n",
      "3              6            5\n",
      "4              5            5\n",
      "5              6            5\n",
      "6              5            5\n",
      "7              6            7\n",
      "8              4            5\n",
      "9              5            5\n",
      "\n",
      "Correctly Predicted: 181 out of 320\n",
      "Wrong Predictions: 139 out of 320\n"
     ]
    }
   ],
   "source": [
    "# actual and predicted values\n",
    "comparison_df = pd.DataFrame({\n",
    "    'Actual Output': yw_test.values,\n",
    "    'Predictions': yw_pred_entropy_prune\n",
    "})\n",
    "\n",
    "# correct and wrong predictions\n",
    "correct = (comparison_df['Actual Output'] == comparison_df['Predictions']).sum()\n",
    "wrong = len(comparison_df) - correct\n",
    "total = len(comparison_df)\n",
    "\n",
    "# Display first few rows\n",
    "print(\"Actual vs Predicted (Entropy + Pruned, Wine Dataset)\\n\")\n",
    "print(comparison_df.head(10))\n",
    "print(f\"\\nCorrectly Predicted: {correct} out of {total}\")\n",
    "print(f\"Wrong Predictions: {wrong} out of {total}\")\n"
   ]
  },
  {
   "cell_type": "code",
   "execution_count": 106,
   "id": "c62c5864",
   "metadata": {},
   "outputs": [
    {
     "data": {
      "image/png": "[encoded data removed]",
      "text/plain": [
       "<Figure size 2000x800 with 8 Axes>"
      ]
     },
     "metadata": {},
     "output_type": "display_data"
    }
   ],
   "source": [
    "models = ['Gini (no prune)', 'Gini (pruned)', 'Entropy (no prune)', 'Entropy (pruned)']\n",
    "\n",
    "bank_train = [bank_train_gini, bank_train_gini_prune, bank_train_entropy, bank_train_entropy_prune]\n",
    "bank_test = [bank_test_gini, bank_test_gini_prune, bank_test_entropy, bank_test_entropy_prune]\n",
    "wine_train = [wine_train_gini, wine_train_gini_prune, wine_train_entropy, wine_train_entropy_prune]\n",
    "wine_test = [wine_test_gini, wine_test_gini_prune, wine_test_entropy, wine_test_entropy_prune]\n",
    "\n",
    "fig, axs = plt.subplots(2, 4, figsize=(20, 8))\n",
    "fig.suptitle('Training vs Testing Accuracy', fontsize=16)\n",
    "\n",
    "# Plot Bank Dataset\n",
    "for i in range(4):\n",
    "    axs[0, i].bar(['Train', 'Test'], [bank_train[i], bank_test[i]], color=['steelblue', 'salmon'])\n",
    "    axs[0, i].set_ylim(0, 1)\n",
    "    axs[0, i].set_title(f'Bank Dataset\\n{models[i]}')\n",
    "    axs[0, i].set_ylabel('Accuracy')\n",
    "\n",
    "# Plot Wine Dataset\n",
    "for i in range(4):\n",
    "    axs[1, i].bar(['Train', 'Test'], [wine_train[i], wine_test[i]], color=['seagreen', 'goldenrod'])\n",
    "    axs[1, i].set_ylim(0, 1)\n",
    "    axs[1, i].set_title(f'Wine Dataset\\n{models[i]}')\n",
    "    axs[1, i].set_ylabel('Accuracy')\n",
    "\n",
    "plt.tight_layout(rect=[0, 0, 1, 0.95])\n",
    "plt.show()\n"
   ]
  }
 ],
 "metadata": {
  "kernelspec": {
   "display_name": "Python 3",
   "language": "python",
   "name": "python3"
  },
  "language_info": {
   "codemirror_mode": {
    "name": "ipython",
    "version": 3
   },
   "file_extension": ".py",
   "mimetype": "text/x-python",
   "name": "python",
   "nbconvert_exporter": "python",
   "pygments_lexer": "ipython3",
   "version": "3.12.5"
  }
 },
 "nbformat": 4,
 "nbformat_minor": 5
}
