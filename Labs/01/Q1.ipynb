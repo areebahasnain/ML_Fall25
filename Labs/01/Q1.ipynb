{
 "cells": [
  {
   "cell_type": "markdown",
   "id": "17d9b5d5",
   "metadata": {},
   "source": [
    "TASK 1 :"
   ]
  },
  {
   "cell_type": "code",
   "execution_count": null,
   "id": "fdbbb4e6",
   "metadata": {},
   "outputs": [],
   "source": [
    "import pandas as pd\n",
    "\n",
    "\"\"\" METHOD 1: Tuple of tuples \"\"\"\n",
    "# test_score (?/100), writing_skills (?/10), reading_skills (?/10), attendance_rate (?/100), study_hours\n",
    "data = {\n",
    "    (45, 4, 5, 60, 4),   # Student 1\n",
    "    (50, 3, 6, 55, 5),   # Student 2\n",
    "    (30, 2, 4, 40, 2),   # Student 3\n",
    "    (20, 1, 3, 35, 1),   # Student 4\n",
    "    (55, 6, 5, 50, 3),   # Student 5\n",
    "    (48, 5, 4, 60, 4),   # Student 6\n",
    "    (33, 4, 3, 45, 2),   # Student 7\n",
    "    (42, 3, 2, 55, 3),   # Student 8\n",
    "    (25, 2, 1, 30, 1),   # Student 9\n",
    "    (49, 4, 5, 65, 3),   # Student 10\n",
    "    \n",
    "}\n",
    "\n",
    "columns = (\"test_score\", \"writing_skills\", \"reading_skills\", \"attendance_rate\", \"study_hours\")\n",
    "\n",
    "df = pd.DataFrame(data, columns=columns)\n",
    "\n",
    "\"\"\" METHOD 2: 2D array \"\"\"\n",
    "import numpy as np\n",
    "\n",
    "data_np= np.array([\n",
    "    [45, 4, 5, 60, 4],\n",
    "    [50, 3, 6, 55, 5],\n",
    "    [30, 2, 4, 40, 2],\n",
    "    [20, 1, 3, 35, 1],\n",
    "    [55, 6, 5, 50, 3],\n",
    "    [48, 5, 4, 60, 4],\n",
    "    [33, 4, 3, 45, 2],\n",
    "    [42, 3, 2, 55, 3],\n",
    "    [25, 2, 1, 30, 1],\n",
    "    [49, 4, 5, 65, 3],\n",
    "])\n",
    "\n",
    "columns_np = [\"test_score\", \"writing_skills\", \"reading_skills\", \"attendance_rate\", \"study_hours\"]\n",
    "df3 = pd.DataFrame(data_np, columns=columns_np)"
   ]
  }
 ],
 "metadata": {
  "kernelspec": {
   "display_name": "Python 3",
   "language": "python",
   "name": "python3"
  },
  "language_info": {
   "name": "python",
   "version": "3.12.5"
  }
 },
 "nbformat": 4,
 "nbformat_minor": 5
}
