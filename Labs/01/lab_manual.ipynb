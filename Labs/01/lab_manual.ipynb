{
 "cells": [
  {
   "cell_type": "markdown",
   "id": "9b55a196",
   "metadata": {},
   "source": [
    "Basic Python for storing collection: List, Tuple, Set, Dictionary"
   ]
  },
  {
   "cell_type": "code",
   "execution_count": 384,
   "id": "3f8f35fd",
   "metadata": {},
   "outputs": [
    {
     "name": "stdout",
     "output_type": "stream",
     "text": [
      "Data:  17 , Type:  <class 'int'>\n",
      "Data : 12.6 , Type : <class 'float'>\n",
      "Data : (14+5j) , Type : <class 'complex'>\n",
      "Data : Machine Learning , Type : <class 'str'>\n"
     ]
    }
   ],
   "source": [
    "# basic data type\n",
    "int_data = 17\n",
    "float_data = 12.6\n",
    "complex_data = 14 + 5j\n",
    "string_data = 'Machine Learning'\n",
    "\n",
    "# printing data and tehir types\n",
    "print(\"Data: \", int_data, \", Type: \", type(int_data))\n",
    "print(\"Data :\", float_data, \", Type :\", type(float_data))\n",
    "print(\"Data :\", complex_data, \", Type :\", type(complex_data))\n",
    "print(\"Data :\", string_data, \", Type :\", type(string_data))"
   ]
  },
  {
   "cell_type": "code",
   "execution_count": 385,
   "id": "57523953",
   "metadata": {},
   "outputs": [
    {
     "name": "stdout",
     "output_type": "stream",
     "text": [
      "Data : [11, 12, 13, 14, 15, 'orange'] , Type : <class 'list'>\n",
      "Data : (12, 15, 17, 'kiran') , Type : <class 'tuple'>\n",
      "Data : {'hasan', 18, 6, 'ali', 'ayesha', 12} , Type : <class 'set'>\n",
      "Data : range(1, 11) , Type : <class 'range'>\n"
     ]
    }
   ],
   "source": [
    "# collection data type\n",
    "list_data = [11, 12, 13, 14, 15, 'orange']\n",
    "tuple_data = (12, 15, 17, 'kiran')\n",
    "set_data = {'ali', 'hasan', 'ayesha', 12, 18, 6}\n",
    "range_data = range(1,11)\n",
    "\n",
    "# printing data and their types\n",
    "print(\"Data :\", list_data, \", Type :\", type(list_data))\n",
    "print(\"Data :\", tuple_data, \", Type :\", type(tuple_data))\n",
    "print(\"Data :\", set_data, \", Type :\", type(set_data))\n",
    "print(\"Data :\", range_data, \", Type :\", type(range_data))"
   ]
  },
  {
   "cell_type": "markdown",
   "id": "ccc427be",
   "metadata": {},
   "source": [
    "PANDAS"
   ]
  },
  {
   "cell_type": "code",
   "execution_count": 386,
   "id": "5f18163f",
   "metadata": {},
   "outputs": [
    {
     "name": "stdout",
     "output_type": "stream",
     "text": [
      "0    1\n",
      "1    2\n",
      "2    3\n",
      "3    4\n",
      "4    5\n",
      "dtype: int64\n",
      "\n",
      "     name  age\n",
      "0  mehek   22\n",
      "1    ali   25\n"
     ]
    }
   ],
   "source": [
    "import pandas as pd\n",
    "\n",
    "# Series: 1D data structure that comprises of key-value pair (similiar to dictionary)\n",
    "t = (1, 2, 3, 4, 5)\n",
    "series = pd.Series(t)\n",
    "print(series)\n",
    "\n",
    "# DataFrame: 2D data structure that can be thought as a spreadsheet (combination of 2 or more series)\n",
    "d = {'name': ['mehek', 'ali'], 'age': [22, 25]}\n",
    "dataframe = pd.DataFrame(d)\n",
    "print(\"\\n\", dataframe)"
   ]
  },
  {
   "cell_type": "markdown",
   "id": "d52d6bfc",
   "metadata": {},
   "source": [
    "Data Analysis on HEART.CSV"
   ]
  },
  {
   "cell_type": "code",
   "execution_count": 387,
   "id": "f2689c79",
   "metadata": {},
   "outputs": [
    {
     "name": "stdout",
     "output_type": "stream",
     "text": [
      "   age  sex  cp  trestbps  chol  fbs  restecg  thalach  exang  oldpeak  slope  \\\n",
      "0   63    1   3       145   233    1        0      150      0      2.3      0   \n",
      "1   37    1   2       130   250    0        1      187      0      3.5      0   \n",
      "2   41    0   1       130   204    0        0      172      0      1.4      2   \n",
      "\n",
      "   ca  thal  target  \n",
      "0   0     1       1  \n",
      "1   0     2       1  \n",
      "2   0     2       1  \n",
      "\n",
      "\n",
      "     age  sex  cp  trestbps  chol  fbs  restecg  thalach  exang  oldpeak  \\\n",
      "300   68    1   0       144   193    1        1      141      0      3.4   \n",
      "301   57    1   0       130   131    0        1      115      1      1.2   \n",
      "302   57    0   1       130   236    0        0      174      0      0.0   \n",
      "\n",
      "     slope  ca  thal  target  \n",
      "300      1   2     3       0  \n",
      "301      1   1     3       0  \n",
      "302      1   1     2       0  \n"
     ]
    }
   ],
   "source": [
    "data = pd.read_csv('heart.csv')\n",
    "\n",
    "# we can store our data after applying any transformation or after creating a manual dataframe using \"to_csv\"\n",
    "# for eg. \"Save the contents of the variable data as a CSV file named newdata.csv.\"\n",
    "data.to_csv('newdata.csv')\n",
    "\n",
    "print(data.head(3))  # top 3 records\n",
    "print(\"\\n\")\n",
    "print(data.tail(3))  # bottom 3 records"
   ]
  },
  {
   "cell_type": "code",
   "execution_count": 388,
   "id": "fbb09f7a",
   "metadata": {},
   "outputs": [
    {
     "name": "stdout",
     "output_type": "stream",
     "text": [
      "Index(['age', 'sex', 'cp', 'trestbps', 'chol', 'fbs', 'restecg', 'thalach',\n",
      "       'exang', 'oldpeak', 'slope', 'ca', 'thal', 'target'],\n",
      "      dtype='object')\n",
      "\n",
      "<Rows, Columns> :  (303, 14)\n",
      "\n",
      "\n",
      "age         303\n",
      "sex         303\n",
      "cp          303\n",
      "trestbps    303\n",
      "chol        303\n",
      "fbs         303\n",
      "restecg     303\n",
      "thalach     303\n",
      "exang       303\n",
      "oldpeak     303\n",
      "slope       303\n",
      "ca          303\n",
      "thal        303\n",
      "target      303\n",
      "dtype: int64\n",
      "\n",
      "\n",
      "age         0\n",
      "sex         0\n",
      "cp          0\n",
      "trestbps    0\n",
      "chol        0\n",
      "fbs         0\n",
      "restecg     0\n",
      "thalach     0\n",
      "exang       0\n",
      "oldpeak     0\n",
      "slope       0\n",
      "ca          0\n",
      "thal        0\n",
      "target      0\n",
      "dtype: int64\n",
      "\n",
      "\n",
      "age           int64\n",
      "sex           int64\n",
      "cp            int64\n",
      "trestbps      int64\n",
      "chol          int64\n",
      "fbs           int64\n",
      "restecg       int64\n",
      "thalach       int64\n",
      "exang         int64\n",
      "oldpeak     float64\n",
      "slope         int64\n",
      "ca            int64\n",
      "thal          int64\n",
      "target        int64\n",
      "dtype: object\n",
      "\n",
      "\n",
      "<class 'pandas.core.frame.DataFrame'>\n",
      "RangeIndex: 303 entries, 0 to 302\n",
      "Data columns (total 14 columns):\n",
      " #   Column    Non-Null Count  Dtype  \n",
      "---  ------    --------------  -----  \n",
      " 0   age       303 non-null    int64  \n",
      " 1   sex       303 non-null    int64  \n",
      " 2   cp        303 non-null    int64  \n",
      " 3   trestbps  303 non-null    int64  \n",
      " 4   chol      303 non-null    int64  \n",
      " 5   fbs       303 non-null    int64  \n",
      " 6   restecg   303 non-null    int64  \n",
      " 7   thalach   303 non-null    int64  \n",
      " 8   exang     303 non-null    int64  \n",
      " 9   oldpeak   303 non-null    float64\n",
      " 10  slope     303 non-null    int64  \n",
      " 11  ca        303 non-null    int64  \n",
      " 12  thal      303 non-null    int64  \n",
      " 13  target    303 non-null    int64  \n",
      "dtypes: float64(1), int64(13)\n",
      "memory usage: 33.3 KB\n",
      "None\n",
      "\n",
      "\n",
      "              age         sex          cp    trestbps        chol         fbs  \\\n",
      "count  303.000000  303.000000  303.000000  303.000000  303.000000  303.000000   \n",
      "mean    54.366337    0.683168    0.966997  131.623762  246.264026    0.148515   \n",
      "std      9.082101    0.466011    1.032052   17.538143   51.830751    0.356198   \n",
      "min     29.000000    0.000000    0.000000   94.000000  126.000000    0.000000   \n",
      "25%     47.500000    0.000000    0.000000  120.000000  211.000000    0.000000   \n",
      "50%     55.000000    1.000000    1.000000  130.000000  240.000000    0.000000   \n",
      "75%     61.000000    1.000000    2.000000  140.000000  274.500000    0.000000   \n",
      "max     77.000000    1.000000    3.000000  200.000000  564.000000    1.000000   \n",
      "\n",
      "          restecg     thalach       exang     oldpeak       slope          ca  \\\n",
      "count  303.000000  303.000000  303.000000  303.000000  303.000000  303.000000   \n",
      "mean     0.528053  149.646865    0.326733    1.039604    1.399340    0.729373   \n",
      "std      0.525860   22.905161    0.469794    1.161075    0.616226    1.022606   \n",
      "min      0.000000   71.000000    0.000000    0.000000    0.000000    0.000000   \n",
      "25%      0.000000  133.500000    0.000000    0.000000    1.000000    0.000000   \n",
      "50%      1.000000  153.000000    0.000000    0.800000    1.000000    0.000000   \n",
      "75%      1.000000  166.000000    1.000000    1.600000    2.000000    1.000000   \n",
      "max      2.000000  202.000000    1.000000    6.200000    2.000000    4.000000   \n",
      "\n",
      "             thal      target  \n",
      "count  303.000000  303.000000  \n",
      "mean     2.313531    0.544554  \n",
      "std      0.612277    0.498835  \n",
      "min      0.000000    0.000000  \n",
      "25%      2.000000    0.000000  \n",
      "50%      2.000000    1.000000  \n",
      "75%      3.000000    1.000000  \n",
      "max      3.000000    1.000000  \n"
     ]
    }
   ],
   "source": [
    "# Column names\n",
    "print(data.columns)\n",
    "\n",
    "# Total number of records and columns\n",
    "print(\"\\n<Rows, Columns> : \", data.shape)\n",
    "\n",
    "# Data stats (count of non-null values in each column)\n",
    "print(\"\\n\")\n",
    "print(data.count()) \n",
    "\n",
    "# Check for missing/null values in each column\n",
    "print(\"\\n\")\n",
    "print(data.isnull().sum())  \n",
    "\n",
    "# Check data types of each column\n",
    "print(\"\\n\")\n",
    "print(data.dtypes)  \n",
    "\n",
    "print(\"\\n\")\n",
    "print(data.info()) # gives information regarding Dataframe class, number of records, and total #of columns, count, dtypes\n",
    "print(\"\\n\")\n",
    "print(data.describe()) # mean, median, maximum, minimum, and standard deviation, count 25%, 50% and 75%."
   ]
  },
  {
   "cell_type": "code",
   "execution_count": 389,
   "id": "be0b6a0c",
   "metadata": {},
   "outputs": [
    {
     "name": "stdout",
     "output_type": "stream",
     "text": [
      "     age  sex  cp  trestbps  chol  fbs  restecg  thalach  exang  oldpeak  \\\n",
      "0     63    1   3       145   233    1        0      150      0      2.3   \n",
      "1     37    1   2       130   250    0        1      187      0      3.5   \n",
      "2     41    0   1       130   204    0        0      172      0      1.4   \n",
      "3     56    1   1       120   236    0        1      178      0      0.8   \n",
      "4     57    0   0       120   354    0        1      163      1      0.6   \n",
      "..   ...  ...  ..       ...   ...  ...      ...      ...    ...      ...   \n",
      "298   57    0   0       140   241    0        1      123      1      0.2   \n",
      "299   45    1   3       110   264    0        1      132      0      1.2   \n",
      "300   68    1   0       144   193    1        1      141      0      3.4   \n",
      "301   57    1   0       130   131    0        1      115      1      1.2   \n",
      "302   57    0   1       130   236    0        0      174      0      0.0   \n",
      "\n",
      "     slope  ca  target  \n",
      "0        0   0       1  \n",
      "1        0   0       1  \n",
      "2        2   0       1  \n",
      "3        2   0       1  \n",
      "4        2   0       1  \n",
      "..     ...  ..     ...  \n",
      "298      1   0       0  \n",
      "299      1   0       0  \n",
      "300      1   2       0  \n",
      "301      1   1       0  \n",
      "302      1   1       0  \n",
      "\n",
      "[303 rows x 13 columns]\n"
     ]
    }
   ],
   "source": [
    "# remove columns\n",
    "cdata = data.drop('thal', axis=1)\n",
    "print(cdata)"
   ]
  },
  {
   "cell_type": "code",
   "execution_count": 390,
   "id": "5dc35c5a",
   "metadata": {},
   "outputs": [
    {
     "name": "stdout",
     "output_type": "stream",
     "text": [
      "      name  age  sex  cp  trestbps  chol  fbs  restecg  thalach  exang  \\\n",
      "0   areeba   63    1   3       145   233    1        0      150      0   \n",
      "1  hasnain   37    1   2       130   250    0        1      187      0   \n",
      "2      ali   41    0   1       130   204    0        0      172      0   \n",
      "3     hadi   56    1   1       120   236    0        1      178      0   \n",
      "4     sara   57    0   0       120   354    0        1      163      1   \n",
      "\n",
      "   oldpeak  slope  ca  thal  target  \n",
      "0      2.3      0   0     1       1  \n",
      "1      3.5      0   0     2       1  \n",
      "2      1.4      2   0     2       1  \n",
      "3      0.8      2   0     2       1  \n",
      "4      0.6      2   0     2       1  \n"
     ]
    }
   ],
   "source": [
    "# adding columns\n",
    "total_5_records = data.head(5)\n",
    "names = ['areeba', 'hasnain', 'ali', 'hadi', 'sara']\n",
    "total_5_records.insert(0, 'name', names)\n",
    "print(total_5_records)"
   ]
  },
  {
   "cell_type": "code",
   "execution_count": 391,
   "id": "dcfec05a",
   "metadata": {},
   "outputs": [
    {
     "name": "stdout",
     "output_type": "stream",
     "text": [
      "     age  sex  cp  trestbps  chol  fbs  restecg  thalach  exang  oldpeak  \\\n",
      "303   25    1   3       125   170   12      NaN      160      1      1.2   \n",
      "\n",
      "     slope  ca  thal  target  resteccg  \n",
      "303      1   2     2       1       1.0  \n"
     ]
    }
   ],
   "source": [
    "# adding rows\n",
    "new_row = {'age' : 25, 'sex' : 1, 'cp' : 3, 'trestbps' : 125, 'chol' : 170, 'fbs' : 12, 'resteccg' : 1,\n",
    "           'thalach' : 160, 'exang' : 1, 'oldpeak' : 1.2, 'slope': 1, 'ca' : 2, 'thal' : 2, 'target' : 1}\n",
    "new_row_df = pd.DataFrame([new_row]) # convert new_row to a dataframe\n",
    "data = pd.concat([data, new_row_df], ignore_index = True) # concatenate the new row to the existing dataframe\n",
    "print(data.tail(1))"
   ]
  },
  {
   "cell_type": "code",
   "execution_count": 392,
   "id": "c4aa22d0",
   "metadata": {},
   "outputs": [
    {
     "name": "stdout",
     "output_type": "stream",
     "text": [
      "   index  age  sex  cp  trestbps  chol  fbs  restecg  thalach  exang  oldpeak  \\\n",
      "0      0   63    1   3       145   233    1      0.0      150      0      2.3   \n",
      "1      1   37    1   2       130   250    0      1.0      187      0      3.5   \n",
      "2      2   41    0   1       130   204    0      0.0      172      0      1.4   \n",
      "3      3   56    1   1       120   236    0      1.0      178      0      0.8   \n",
      "4      4   57    0   0       120   354    0      1.0      163      1      0.6   \n",
      "\n",
      "   slope  ca  thal  target  resteccg  \n",
      "0      0   0     1       1       NaN  \n",
      "1      0   0     2       1       NaN  \n",
      "2      2   0     2       1       NaN  \n",
      "3      2   0     2       1       NaN  \n",
      "4      2   0     2       1       NaN  \n"
     ]
    }
   ],
   "source": [
    "# reset index\n",
    "data.reset_index(drop=False, inplace=True)\n",
    "print(data.head())\n",
    "\n",
    "# drop=False → Keeps the old index by adding it as a new column in your DataFrame. (adds a new column called index with those old values)\n",
    "# drop=True → Completely removes the old index, without keeping it as a column."
   ]
  },
  {
   "cell_type": "code",
   "execution_count": 393,
   "id": "2b1c7e87",
   "metadata": {},
   "outputs": [
    {
     "name": "stdout",
     "output_type": "stream",
     "text": [
      "         age  sex  cp  trestbps  chol  fbs  restecg  thalach  exang  oldpeak  \\\n",
      "name                                                                           \n",
      "areeba    63    1   3       145   233    1        0      150      0      2.3   \n",
      "hasnain   37    1   2       130   250    0        1      187      0      3.5   \n",
      "ali       41    0   1       130   204    0        0      172      0      1.4   \n",
      "hadi      56    1   1       120   236    0        1      178      0      0.8   \n",
      "sara      57    0   0       120   354    0        1      163      1      0.6   \n",
      "\n",
      "         slope  ca  thal  target  \n",
      "name                              \n",
      "areeba       0   0     1       1  \n",
      "hasnain      0   0     2       1  \n",
      "ali          2   0     2       1  \n",
      "hadi         2   0     2       1  \n",
      "sara         2   0     2       1  \n"
     ]
    }
   ],
   "source": [
    "# setting index\n",
    "total_5_records = total_5_records.set_index('name')\n",
    "print(total_5_records.head())"
   ]
  },
  {
   "cell_type": "code",
   "execution_count": 394,
   "id": "bd48d9aa",
   "metadata": {},
   "outputs": [
    {
     "name": "stdout",
     "output_type": "stream",
     "text": [
      "     index  age  sex  cp  trestbps  chol  fbs  restecg  thalach  exang  \\\n",
      "303    303   25    1   3       125   170   12      NaN      160      1   \n",
      "72      72   29    1   1       130   204    0      0.0      202      0   \n",
      "58      58   34    1   3       118   182    0      0.0      174      0   \n",
      "125    125   34    0   1       118   210    0      1.0      192      0   \n",
      "227    227   35    1   0       120   198    0      1.0      130      1   \n",
      "\n",
      "     oldpeak  slope  ca  thal  target  resteccg  \n",
      "303      1.2      1   2     2       1       1.0  \n",
      "72       0.0      2   0     2       1       NaN  \n",
      "58       0.0      2   0     2       1       NaN  \n",
      "125      0.7      2   0     2       1       NaN  \n",
      "227      1.6      1   0     3       0       NaN  \n"
     ]
    }
   ],
   "source": [
    "# sort values\n",
    "data.sort_values('age', inplace=True)\n",
    "print(data.head())"
   ]
  },
  {
   "cell_type": "code",
   "execution_count": 395,
   "id": "90d6f243",
   "metadata": {},
   "outputs": [
    {
     "name": "stdout",
     "output_type": "stream",
     "text": [
      "     index  age     sex  cp  trestbps  chol  fbs  restecg  thalach  exang  \\\n",
      "303    303   25    male   3       125   170   12      NaN      160      1   \n",
      "72      72   29    male   1       130   204    0      0.0      202      0   \n",
      "58      58   34    male   3       118   182    0      0.0      174      0   \n",
      "125    125   34  female   1       118   210    0      1.0      192      0   \n",
      "227    227   35    male   0       120   198    0      1.0      130      1   \n",
      "\n",
      "     oldpeak        slope  ca  thal  target  resteccg  \n",
      "303      1.2         flat   2     2       1       1.0  \n",
      "72       0.0  downsloping   0     2       1       NaN  \n",
      "58       0.0  downsloping   0     2       1       NaN  \n",
      "125      0.7  downsloping   0     2       1       NaN  \n",
      "227      1.6         flat   0     3       0       NaN  \n"
     ]
    }
   ],
   "source": [
    "# changing values of records at particular column\n",
    "data['sex'] = data['sex'].replace({0: 'female', 1: 'male'})\n",
    "data['slope'] = data['slope'].replace({0: 'unsloping', 1: 'flat', 2: 'downsloping'})\n",
    "print(data.head())"
   ]
  },
  {
   "cell_type": "code",
   "execution_count": 396,
   "id": "fb68603b",
   "metadata": {},
   "outputs": [
    {
     "name": "stdout",
     "output_type": "stream",
     "text": [
      "Extracting Single Column:\n",
      " 303    25\n",
      "72     29\n",
      "58     34\n",
      "125    34\n",
      "227    35\n",
      "       ..\n",
      "25     71\n",
      "151    71\n",
      "129    74\n",
      "144    76\n",
      "238    77\n",
      "Name: age, Length: 304, dtype: int64\n",
      "\n",
      "Extracting Multiple Columns:\n",
      "      age  ca\n",
      "303   25   2\n",
      "72    29   0\n",
      "58    34   0\n",
      "125   34   0\n",
      "227   35   0\n",
      "..   ...  ..\n",
      "25    71   2\n",
      "151   71   0\n",
      "129   74   1\n",
      "144   76   0\n",
      "238   77   3\n",
      "\n",
      "[304 rows x 2 columns]\n",
      "\n",
      "Extracting using pop:\n",
      " 303    1\n",
      "72     1\n",
      "58     1\n",
      "125    1\n",
      "227    0\n",
      "      ..\n",
      "25     1\n",
      "151    1\n",
      "129    1\n",
      "144    1\n",
      "238    0\n",
      "Name: target, Length: 304, dtype: int64\n"
     ]
    }
   ],
   "source": [
    "# extracting sprecific columns\n",
    "print(\"Extracting Single Column:\\n\", data['age'])\n",
    "print(\"\\nExtracting Multiple Columns:\\n\", data[['age','ca']])\n",
    "\n",
    "y = data.pop('target')\n",
    "print(\"\\nExtracting using pop:\\n\", y)\n"
   ]
  },
  {
   "cell_type": "code",
   "execution_count": 397,
   "id": "94bde641",
   "metadata": {},
   "outputs": [
    {
     "data": {
      "text/html": [
       "<div>\n",
       "<style scoped>\n",
       "    .dataframe tbody tr th:only-of-type {\n",
       "        vertical-align: middle;\n",
       "    }\n",
       "\n",
       "    .dataframe tbody tr th {\n",
       "        vertical-align: top;\n",
       "    }\n",
       "\n",
       "    .dataframe thead th {\n",
       "        text-align: right;\n",
       "    }\n",
       "</style>\n",
       "<table border=\"1\" class=\"dataframe\">\n",
       "  <thead>\n",
       "    <tr style=\"text-align: right;\">\n",
       "      <th></th>\n",
       "      <th>index</th>\n",
       "      <th>age</th>\n",
       "      <th>sex</th>\n",
       "      <th>cp</th>\n",
       "      <th>trestbps</th>\n",
       "    </tr>\n",
       "  </thead>\n",
       "  <tbody>\n",
       "    <tr>\n",
       "      <th>303</th>\n",
       "      <td>303</td>\n",
       "      <td>25</td>\n",
       "      <td>male</td>\n",
       "      <td>3</td>\n",
       "      <td>125</td>\n",
       "    </tr>\n",
       "    <tr>\n",
       "      <th>72</th>\n",
       "      <td>72</td>\n",
       "      <td>29</td>\n",
       "      <td>male</td>\n",
       "      <td>1</td>\n",
       "      <td>130</td>\n",
       "    </tr>\n",
       "    <tr>\n",
       "      <th>58</th>\n",
       "      <td>58</td>\n",
       "      <td>34</td>\n",
       "      <td>male</td>\n",
       "      <td>3</td>\n",
       "      <td>118</td>\n",
       "    </tr>\n",
       "    <tr>\n",
       "      <th>125</th>\n",
       "      <td>125</td>\n",
       "      <td>34</td>\n",
       "      <td>female</td>\n",
       "      <td>1</td>\n",
       "      <td>118</td>\n",
       "    </tr>\n",
       "    <tr>\n",
       "      <th>227</th>\n",
       "      <td>227</td>\n",
       "      <td>35</td>\n",
       "      <td>male</td>\n",
       "      <td>0</td>\n",
       "      <td>120</td>\n",
       "    </tr>\n",
       "    <tr>\n",
       "      <th>157</th>\n",
       "      <td>157</td>\n",
       "      <td>35</td>\n",
       "      <td>male</td>\n",
       "      <td>1</td>\n",
       "      <td>122</td>\n",
       "    </tr>\n",
       "  </tbody>\n",
       "</table>\n",
       "</div>"
      ],
      "text/plain": [
       "     index  age     sex  cp  trestbps\n",
       "303    303   25    male   3       125\n",
       "72      72   29    male   1       130\n",
       "58      58   34    male   3       118\n",
       "125    125   34  female   1       118\n",
       "227    227   35    male   0       120\n",
       "157    157   35    male   1       122"
      ]
     },
     "execution_count": 397,
     "metadata": {},
     "output_type": "execute_result"
    }
   ],
   "source": [
    "# extracting desired rows and columns\n",
    "\n",
    "# iloc method -----> data.iloc[row_positions, column_positions]\n",
    "data.iloc[0:6, 0:5]"
   ]
  },
  {
   "cell_type": "code",
   "execution_count": 398,
   "id": "3757495a",
   "metadata": {},
   "outputs": [
    {
     "data": {
      "text/html": [
       "<div>\n",
       "<style scoped>\n",
       "    .dataframe tbody tr th:only-of-type {\n",
       "        vertical-align: middle;\n",
       "    }\n",
       "\n",
       "    .dataframe tbody tr th {\n",
       "        vertical-align: top;\n",
       "    }\n",
       "\n",
       "    .dataframe thead th {\n",
       "        text-align: right;\n",
       "    }\n",
       "</style>\n",
       "<table border=\"1\" class=\"dataframe\">\n",
       "  <thead>\n",
       "    <tr style=\"text-align: right;\">\n",
       "      <th></th>\n",
       "      <th>age</th>\n",
       "      <th>sex</th>\n",
       "      <th>cp</th>\n",
       "      <th>trestbps</th>\n",
       "    </tr>\n",
       "  </thead>\n",
       "  <tbody>\n",
       "    <tr>\n",
       "      <th>0</th>\n",
       "      <td>25</td>\n",
       "      <td>male</td>\n",
       "      <td>3</td>\n",
       "      <td>125</td>\n",
       "    </tr>\n",
       "    <tr>\n",
       "      <th>1</th>\n",
       "      <td>29</td>\n",
       "      <td>male</td>\n",
       "      <td>1</td>\n",
       "      <td>130</td>\n",
       "    </tr>\n",
       "    <tr>\n",
       "      <th>2</th>\n",
       "      <td>34</td>\n",
       "      <td>male</td>\n",
       "      <td>3</td>\n",
       "      <td>118</td>\n",
       "    </tr>\n",
       "    <tr>\n",
       "      <th>3</th>\n",
       "      <td>34</td>\n",
       "      <td>female</td>\n",
       "      <td>1</td>\n",
       "      <td>118</td>\n",
       "    </tr>\n",
       "    <tr>\n",
       "      <th>4</th>\n",
       "      <td>35</td>\n",
       "      <td>male</td>\n",
       "      <td>0</td>\n",
       "      <td>120</td>\n",
       "    </tr>\n",
       "    <tr>\n",
       "      <th>5</th>\n",
       "      <td>35</td>\n",
       "      <td>male</td>\n",
       "      <td>1</td>\n",
       "      <td>122</td>\n",
       "    </tr>\n",
       "    <tr>\n",
       "      <th>6</th>\n",
       "      <td>35</td>\n",
       "      <td>male</td>\n",
       "      <td>0</td>\n",
       "      <td>126</td>\n",
       "    </tr>\n",
       "  </tbody>\n",
       "</table>\n",
       "</div>"
      ],
      "text/plain": [
       "   age     sex  cp  trestbps\n",
       "0   25    male   3       125\n",
       "1   29    male   1       130\n",
       "2   34    male   3       118\n",
       "3   34  female   1       118\n",
       "4   35    male   0       120\n",
       "5   35    male   1       122\n",
       "6   35    male   0       126"
      ]
     },
     "execution_count": 398,
     "metadata": {},
     "output_type": "execute_result"
    }
   ],
   "source": [
    "# loc method ---> data.loc[row_labels, column_labels]\n",
    "data.reset_index(drop=True, inplace=True) # sorting changed the order of index\n",
    "data.loc[0:6, 'age':'trestbps']"
   ]
  },
  {
   "cell_type": "markdown",
   "id": "5ed18ecb",
   "metadata": {},
   "source": [
    "DATA VISUALIZATION"
   ]
  },
  {
   "cell_type": "code",
   "execution_count": 399,
   "id": "2216196e",
   "metadata": {},
   "outputs": [
    {
     "data": {
      "image/png": "[encoded data removed]",
      "text/plain": [
       "<Figure size 640x480 with 1 Axes>"
      ]
     },
     "metadata": {},
     "output_type": "display_data"
    }
   ],
   "source": [
    "import matplotlib.pyplot as plt\n",
    "data = pd.read_csv('heart.csv')\n",
    "plt.hist(data['age'])\n",
    "plt.show()"
   ]
  },
  {
   "cell_type": "code",
   "execution_count": 400,
   "id": "4333531b",
   "metadata": {},
   "outputs": [
    {
     "data": {
      "text/plain": [
       "<Axes: xlabel='chol', ylabel='age'>"
      ]
     },
     "execution_count": 400,
     "metadata": {},
     "output_type": "execute_result"
    },
    {
     "data": {
      "image/png": "[encoded data removed]",
      "text/plain": [
       "<Figure size 640x480 with 1 Axes>"
      ]
     },
     "metadata": {},
     "output_type": "display_data"
    }
   ],
   "source": [
    "import seaborn as sn\n",
    "x1 = data['chol']\n",
    "x2 = data['age']\n",
    "sn.scatterplot(x=x1, y=x2, hue=data['target'])"
   ]
  },
  {
   "cell_type": "code",
   "execution_count": 401,
   "id": "86d9440f",
   "metadata": {},
   "outputs": [
    {
     "data": {
      "text/plain": [
       "<seaborn.axisgrid.FacetGrid at 0x2949766dc40>"
      ]
     },
     "execution_count": 401,
     "metadata": {},
     "output_type": "execute_result"
    },
    {
     "data": {
      "image/png": "[encoded data removed]",
      "text/plain": [
       "<Figure size 500x500 with 1 Axes>"
      ]
     },
     "metadata": {},
     "output_type": "display_data"
    }
   ],
   "source": [
    "sn.displot(data['age'])"
   ]
  },
  {
   "cell_type": "code",
   "execution_count": 402,
   "id": "ee783f2d",
   "metadata": {},
   "outputs": [
    {
     "data": {
      "text/plain": [
       "<Axes: ylabel='chol'>"
      ]
     },
     "execution_count": 402,
     "metadata": {},
     "output_type": "execute_result"
    },
    {
     "data": {
      "image/png": "[encoded data removed]",
      "text/plain": [
       "<Figure size 640x480 with 1 Axes>"
      ]
     },
     "metadata": {},
     "output_type": "display_data"
    }
   ],
   "source": [
    "sn.boxplot(data['chol'])"
   ]
  },
  {
   "cell_type": "code",
   "execution_count": 403,
   "id": "612b81a5",
   "metadata": {},
   "outputs": [
    {
     "data": {
      "text/plain": [
       "<Figure size 1400x1400 with 0 Axes>"
      ]
     },
     "execution_count": 403,
     "metadata": {},
     "output_type": "execute_result"
    },
    {
     "data": {
      "image/png": "[encoded data removed]",
      "text/plain": [
       "<Figure size 640x480 with 2 Axes>"
      ]
     },
     "metadata": {},
     "output_type": "display_data"
    },
    {
     "data": {
      "text/plain": [
       "<Figure size 1400x1400 with 0 Axes>"
      ]
     },
     "metadata": {},
     "output_type": "display_data"
    }
   ],
   "source": [
    "cols = ['age', 'chol', 'thalach', 'trestbps']\n",
    "subset = data[cols]\n",
    "sn.heatmap(data=subset.corr(), annot=True, cmap='coolwarm')\n",
    "plt.figure(figsize=(14,14))"
   ]
  }
 ],
 "metadata": {
  "kernelspec": {
   "display_name": "Python 3",
   "language": "python",
   "name": "python3"
  },
  "language_info": {
   "codemirror_mode": {
    "name": "ipython",
    "version": 3
   },
   "file_extension": ".py",
   "mimetype": "text/x-python",
   "name": "python",
   "nbconvert_exporter": "python",
   "pygments_lexer": "ipython3",
   "version": "3.12.5"
  }
 },
 "nbformat": 4,
 "nbformat_minor": 5
}
