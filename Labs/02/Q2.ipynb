{
 "cells": [
  {
   "cell_type": "code",
   "execution_count": 3,
   "id": "23fdab8b",
   "metadata": {},
   "outputs": [],
   "source": [
    "import pandas as pd"
   ]
  },
  {
   "cell_type": "code",
   "execution_count": 4,
   "id": "2045d498",
   "metadata": {},
   "outputs": [
    {
     "name": "stdout",
     "output_type": "stream",
     "text": [
      "  county    Size CardinalDirection    Timings institute_type  avg_income\n",
      "0      A   small             North  full time         school    35000.75\n",
      "1      B  medium             South  part time        college    42010.50\n",
      "2      C    high              East  full time     university    51000.20\n",
      "3      D  medium              West  part time         school    28050.35\n",
      "4      E   small             North  full time        college    60000.90\n"
     ]
    }
   ],
   "source": [
    "data = {\n",
    "    \"county\": [\"A\", \"B\", \"C\", \"D\", \"E\"], # common attribute\n",
    "    \"Size\": [\"small\", \"medium\", \"high\", \"medium\", \"small\"],\n",
    "    \"CardinalDirection\": [\"North\", \"South\", \"East\", \"West\", \"North\"],\n",
    "    \"Timings\": [\"full time\", \"part time\", \"full time\", \"part time\", \"full time\"],\n",
    "    \"institute_type\": [\"school\", \"college\", \"university\", \"school\", \"college\"], # categorical\n",
    "    \"avg_income\": [35000.75, 42010.50, 51000.20, 28050.35, 60000.90]  # continuous\n",
    "}\n",
    "\n",
    "customizedData = pd.DataFrame(data)\n",
    "print(customizedData)"
   ]
  },
  {
   "cell_type": "code",
   "execution_count": 7,
   "id": "f78371f1",
   "metadata": {},
   "outputs": [
    {
     "name": "stdout",
     "output_type": "stream",
     "text": [
      "\n",
      "After merging (modifiedData):\n",
      "Index(['fid', 'name', 'population', 'county', 'latitude', 'longitude', 'level',\n",
      "       'enrollment', 'level.1', 'city', 'score', 'Size', 'CardinalDirection',\n",
      "       'Timings', 'institute_type', 'avg_income'],\n",
      "      dtype='object')\n",
      "(0, 16)\n"
     ]
    }
   ],
   "source": [
    "d1a = pd.read_csv(\"Lab2_D1A.csv\")\n",
    "d1b = pd.read_csv(\"Lab2_D1B.csv\")\n",
    "d1c = pd.read_csv(\"Lab2_D1C.csv\")\n",
    "\n",
    "# merge D1A + D1B\n",
    "merged_AB = pd.merge(d1a, d1b, on=[\"name\", \"population\", \"county\"])\n",
    "\n",
    "# merge with D1C\n",
    "merged_ABC = pd.merge(merged_AB, d1c, on=\"county\")\n",
    "\n",
    "# merge with customizedData\n",
    "modifiedData = pd.merge(merged_ABC, customizedData, on=\"county\")\n",
    "\n",
    "print(\"\\nAfter merging (modifiedData):\")\n",
    "print(modifiedData.columns)\n",
    "print(modifiedData.shape)"
   ]
  }
 ],
 "metadata": {
  "kernelspec": {
   "display_name": "Python 3",
   "language": "python",
   "name": "python3"
  },
  "language_info": {
   "codemirror_mode": {
    "name": "ipython",
    "version": 3
   },
   "file_extension": ".py",
   "mimetype": "text/x-python",
   "name": "python",
   "nbconvert_exporter": "python",
   "pygments_lexer": "ipython3",
   "version": "3.12.5"
  }
 },
 "nbformat": 4,
 "nbformat_minor": 5
}
