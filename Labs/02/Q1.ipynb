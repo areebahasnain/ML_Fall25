{
 "cells": [
  {
   "cell_type": "code",
   "execution_count": 6,
   "id": "b5cf26cf",
   "metadata": {},
   "outputs": [],
   "source": [
    "import pandas as pd"
   ]
  },
  {
   "cell_type": "code",
   "execution_count": 7,
   "id": "8ae2d067",
   "metadata": {},
   "outputs": [
    {
     "name": "stdout",
     "output_type": "stream",
     "text": [
      "Index(['fid', 'name', 'population', 'county', 'latitude', 'longitude', 'level',\n",
      "       'enrollment', 'level.1'],\n",
      "      dtype='object')\n",
      "Final Records: (27033, 9)\n"
     ]
    }
   ],
   "source": [
    "d1a = pd.read_csv(\"Lab2_D1A.csv\")\n",
    "d1b = pd.read_csv(\"Lab2_D1B.csv\")\n",
    "\n",
    "final = pd.merge(d1a, d1b, on=['name', 'population', 'county']) # merged on shared columns\n",
    "\n",
    "print(final.columns)\n",
    "print(\"Final Records:\",final.shape)"
   ]
  },
  {
   "cell_type": "code",
   "execution_count": 8,
   "id": "b6c93195",
   "metadata": {},
   "outputs": [
    {
     "name": "stdout",
     "output_type": "stream",
     "text": [
      "(4221333, 7)\n",
      "Index(['fid', 'name', 'population', 'county', 'latitude', 'city', 'score'], dtype='object')\n"
     ]
    }
   ],
   "source": [
    "# common column = county\n",
    "d1a = pd.read_csv(\"Lab2_D1A.csv\")\n",
    "d1c = pd.read_csv(\"Lab2_D1C.csv\")\n",
    "\n",
    "comboAC = pd.merge(d1a, d1c, on=\"county\") # merge on the common column\n",
    "\n",
    "print(comboAC.shape) \n",
    "print(comboAC.columns)"
   ]
  }
 ],
 "metadata": {
  "kernelspec": {
   "display_name": "Python 3",
   "language": "python",
   "name": "python3"
  },
  "language_info": {
   "codemirror_mode": {
    "name": "ipython",
    "version": 3
   },
   "file_extension": ".py",
   "mimetype": "text/x-python",
   "name": "python",
   "nbconvert_exporter": "python",
   "pygments_lexer": "ipython3",
   "version": "3.12.5"
  }
 },
 "nbformat": 4,
 "nbformat_minor": 5
}
