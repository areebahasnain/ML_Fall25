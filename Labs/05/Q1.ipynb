{
 "cells": [
  {
   "cell_type": "code",
   "execution_count": 50,
   "id": "13019b57",
   "metadata": {},
   "outputs": [],
   "source": [
    "import pandas as pd\n",
    "import numpy as np\n",
    "import matplotlib.pyplot as plt\n",
    "import seaborn as sns\n",
    "\n",
    "from sklearn.impute import SimpleImputer\n",
    "from sklearn.model_selection import train_test_split\n",
    "from sklearn.preprocessing import StandardScaler\n",
    "from sklearn.metrics import accuracy_score, confusion_matrix, classification_report\n",
    "from sklearn.preprocessing import LabelEncoder\n",
    "from imblearn.over_sampling import RandomOverSampler\n",
    "from imblearn.under_sampling import RandomUnderSampler\n",
    "\n",
    "from sklearn.ensemble import RandomForestClassifier, AdaBoostClassifier\n",
    "from xgboost import XGBClassifier"
   ]
  },
  {
   "cell_type": "code",
   "execution_count": 51,
   "id": "361949d8",
   "metadata": {},
   "outputs": [
    {
     "name": "stdout",
     "output_type": "stream",
     "text": [
      "Index(['age', 'sex', 'cp', 'trestbps', 'chol', 'fbs', 'restecg', 'thalach',\n",
      "       'exang', 'oldpeak', 'slope', 'ca', 'thal', 'target'],\n",
      "      dtype='object')\n",
      "\n",
      "Describe:\n",
      "                age          sex           cp     trestbps        chol  \\\n",
      "count  1025.000000  1025.000000  1025.000000  1025.000000  1025.00000   \n",
      "mean     54.434146     0.695610     0.942439   131.611707   246.00000   \n",
      "std       9.072290     0.460373     1.029641    17.516718    51.59251   \n",
      "min      29.000000     0.000000     0.000000    94.000000   126.00000   \n",
      "25%      48.000000     0.000000     0.000000   120.000000   211.00000   \n",
      "50%      56.000000     1.000000     1.000000   130.000000   240.00000   \n",
      "75%      61.000000     1.000000     2.000000   140.000000   275.00000   \n",
      "max      77.000000     1.000000     3.000000   200.000000   564.00000   \n",
      "\n",
      "               fbs      restecg      thalach        exang      oldpeak  \\\n",
      "count  1025.000000  1025.000000  1025.000000  1025.000000  1025.000000   \n",
      "mean      0.149268     0.529756   149.114146     0.336585     1.071512   \n",
      "std       0.356527     0.527878    23.005724     0.472772     1.175053   \n",
      "min       0.000000     0.000000    71.000000     0.000000     0.000000   \n",
      "25%       0.000000     0.000000   132.000000     0.000000     0.000000   \n",
      "50%       0.000000     1.000000   152.000000     0.000000     0.800000   \n",
      "75%       0.000000     1.000000   166.000000     1.000000     1.800000   \n",
      "max       1.000000     2.000000   202.000000     1.000000     6.200000   \n",
      "\n",
      "             slope           ca         thal       target  \n",
      "count  1025.000000  1025.000000  1025.000000  1025.000000  \n",
      "mean      1.385366     0.754146     2.323902     0.513171  \n",
      "std       0.617755     1.030798     0.620660     0.500070  \n",
      "min       0.000000     0.000000     0.000000     0.000000  \n",
      "25%       1.000000     0.000000     2.000000     0.000000  \n",
      "50%       1.000000     0.000000     2.000000     1.000000  \n",
      "75%       2.000000     1.000000     3.000000     1.000000  \n",
      "max       2.000000     4.000000     3.000000     1.000000  \n",
      "\n",
      "Missing Values: 0\n",
      "\n",
      "Duplicate Values: 723\n",
      "\n",
      "Class Distribution: target\n",
      "1    526\n",
      "0    499\n",
      "Name: count, dtype: int64\n"
     ]
    },
    {
     "data": {
      "image/png": "[encoded data removed]",
      "text/plain": [
       "<Figure size 300x300 with 1 Axes>"
      ]
     },
     "metadata": {},
     "output_type": "display_data"
    },
    {
     "name": "stdout",
     "output_type": "stream",
     "text": [
      "<class 'pandas.core.frame.DataFrame'>\n",
      "RangeIndex: 1025 entries, 0 to 1024\n",
      "Data columns (total 14 columns):\n",
      " #   Column    Non-Null Count  Dtype  \n",
      "---  ------    --------------  -----  \n",
      " 0   age       1025 non-null   int64  \n",
      " 1   sex       1025 non-null   int64  \n",
      " 2   cp        1025 non-null   int64  \n",
      " 3   trestbps  1025 non-null   int64  \n",
      " 4   chol      1025 non-null   int64  \n",
      " 5   fbs       1025 non-null   int64  \n",
      " 6   restecg   1025 non-null   int64  \n",
      " 7   thalach   1025 non-null   int64  \n",
      " 8   exang     1025 non-null   int64  \n",
      " 9   oldpeak   1025 non-null   float64\n",
      " 10  slope     1025 non-null   int64  \n",
      " 11  ca        1025 non-null   int64  \n",
      " 12  thal      1025 non-null   int64  \n",
      " 13  target    1025 non-null   int64  \n",
      "dtypes: float64(1), int64(13)\n",
      "memory usage: 112.2 KB\n",
      "\n",
      " None\n"
     ]
    }
   ],
   "source": [
    "df = pd.read_csv('heart.csv')\n",
    "print(df.columns)\n",
    "\n",
    "# eda\n",
    "print(\"\\nDescribe:\\n\", df.describe())\n",
    "print(\"\\nMissing Values:\", df.isnull().sum().sum())\n",
    "print(\"\\nDuplicate Values:\", df.duplicated().sum())\n",
    "print(\"\\nClass Distribution:\", df['target'].value_counts()) # yep pretty balanced -> 1 : 526, 0 : 499\n",
    "plt.figure(figsize=(3,3))\n",
    "sns.countplot(x='target', data=df)\n",
    "plt.title('Target Variable Distribution')\n",
    "plt.show()\n",
    "print(\"\\n\", df.info())"
   ]
  },
  {
   "cell_type": "code",
   "execution_count": 52,
   "id": "c5c65b93",
   "metadata": {},
   "outputs": [
    {
     "name": "stdout",
     "output_type": "stream",
     "text": [
      "Categorical Value Columns: Index([], dtype='object')\n",
      "Numerical Value Columns: Index(['age', 'sex', 'cp', 'trestbps', 'chol', 'fbs', 'restecg', 'thalach',\n",
      "       'exang', 'oldpeak', 'slope', 'ca', 'thal', 'target'],\n",
      "      dtype='object')\n"
     ]
    }
   ],
   "source": [
    "num_cols = df.select_dtypes(exclude=['object', 'string', 'category']).columns\n",
    "cat_cols = df.select_dtypes(include=['object', 'string', 'category']).columns\n",
    "\n",
    "print('Categorical Value Columns:', cat_cols)\n",
    "print('Numerical Value Columns:', num_cols)"
   ]
  },
  {
   "cell_type": "code",
   "execution_count": 53,
   "id": "e7ee9d17",
   "metadata": {},
   "outputs": [],
   "source": [
    "df.drop_duplicates()\n",
    "\n",
    "im = SimpleImputer(strategy='median')\n",
    "df[:] = im.fit_transform(df)\n",
    "\n",
    "le = LabelEncoder()\n",
    "for col in cat_cols:\n",
    "    df[col] = le.fit_transform(df[col])"
   ]
  },
  {
   "cell_type": "markdown",
   "id": "ba2647e1",
   "metadata": {},
   "source": [
    "Duplicates: Removed because duplicate records can bias the model by repeating the same data points  \n",
    "Missing Values: None found; but if exist, median imputation would be used to reduce the effect of outliers  \n",
    "Categorical Data: Dataset has only numeric columns, so no encoding is required  \n",
    "Imbalanced Data: Already balanced"
   ]
  },
  {
   "cell_type": "code",
   "execution_count": 54,
   "id": "9eb49c10",
   "metadata": {},
   "outputs": [
    {
     "name": "stdout",
     "output_type": "stream",
     "text": [
      "\n",
      "Before Scaling:\n",
      "    age  sex  cp  trestbps  chol  fbs  restecg  thalach  exang  oldpeak  slope  \\\n",
      "0   52    1   0       125   212    0        1      168      0      1.0      2   \n",
      "1   53    1   0       140   203    1        0      155      1      3.1      0   \n",
      "2   70    1   0       145   174    0        1      125      1      2.6      0   \n",
      "3   61    1   0       148   203    0        1      161      0      0.0      2   \n",
      "4   62    0   0       138   294    1        1      106      0      1.9      1   \n",
      "\n",
      "   ca  thal  target  \n",
      "0   2     3       0  \n",
      "1   0     3       0  \n",
      "2   0     3       0  \n",
      "3   1     3       0  \n",
      "4   3     2       0  \n",
      "\n",
      "After Scaling\n",
      "         age       sex        cp  trestbps      chol       fbs   restecg  \\\n",
      "0 -0.268437  0.661504 -0.915755 -0.377636 -0.659332 -0.418878  0.891255   \n",
      "1 -0.158157  0.661504 -0.915755  0.479107 -0.833861  2.387330 -1.004049   \n",
      "2  1.716595  0.661504 -0.915755  0.764688 -1.396233 -0.418878  0.891255   \n",
      "3  0.724079  0.661504 -0.915755  0.936037 -0.833861 -0.418878  0.891255   \n",
      "4  0.834359 -1.511706 -0.915755  0.364875  0.930822  2.387330  0.891255   \n",
      "\n",
      "    thalach     exang   oldpeak     slope        ca      thal  target  \n",
      "0  0.821321 -0.712287 -0.060888  0.995433  1.209221  1.089852       0  \n",
      "1  0.255968  1.403928  1.727137 -2.243675 -0.731971  1.089852       0  \n",
      "2 -1.048692  1.403928  1.301417 -2.243675 -0.731971  1.089852       0  \n",
      "3  0.516900 -0.712287 -0.912329  0.995433  0.238625  1.089852       0  \n",
      "4 -1.874977 -0.712287  0.705408 -0.624121  2.179817 -0.522122       0  \n"
     ]
    }
   ],
   "source": [
    "# features have very different numeric ranges so feauture scaling\n",
    "print(\"\\nBefore Scaling:\\n\", df.head())\n",
    "\n",
    "x = df.drop('target', axis=1)\n",
    "y = df['target']\n",
    "\n",
    "scaler = StandardScaler()\n",
    "x_scaled = scaler.fit_transform(x)\n",
    "x_scaled = pd.DataFrame(x_scaled, columns=x.columns)\n",
    "\n",
    "df_scaled = pd.concat([x_scaled, y.reset_index(drop=True)], axis=1)\n",
    "print(\"\\nAfter Scaling\\n\", df_scaled.head())\n"
   ]
  },
  {
   "cell_type": "code",
   "execution_count": 55,
   "id": "d37608af",
   "metadata": {},
   "outputs": [],
   "source": [
    "x = df_scaled.drop('target', axis=1)\n",
    "y = df_scaled['target']\n",
    "\n",
    "# split into 80-20\n",
    "xtrain, xtest, ytrain, ytest = train_test_split(x, y, test_size=0.2, random_state=0)\n",
    "\n",
    "# split train further into 70-30\n",
    "xtrain_final, xval, ytrain_final, yval = train_test_split(xtrain, ytrain,  test_size=0.3, random_state=0) "
   ]
  },
  {
   "cell_type": "markdown",
   "id": "f1a51428",
   "metadata": {},
   "source": [
    "Validation set is used to tune and evaluate the model during training without touching the test data. It helps check for overfitting and ensures the model generalizes well before final testing."
   ]
  },
  {
   "cell_type": "code",
   "execution_count": 56,
   "id": "acd8fe82",
   "metadata": {},
   "outputs": [
    {
     "name": "stdout",
     "output_type": "stream",
     "text": [
      "  Model  Training Accuracy  Testing Accuracy\n",
      "0    RF           1.000000          1.000000\n",
      "1   ADA           0.890244          0.882927\n",
      "2   XGB           1.000000          1.000000\n"
     ]
    },
    {
     "name": "stderr",
     "output_type": "stream",
     "text": [
      "c:\\Users\\HP\\AppData\\Local\\Programs\\Python\\Python312\\Lib\\site-packages\\xgboost\\training.py:183: UserWarning: [18:12:55] WARNING: C:\\actions-runner\\_work\\xgboost\\xgboost\\src\\learner.cc:738: \n",
      "Parameters: { \"use_label_encoder\" } are not used.\n",
      "\n",
      "  bst.update(dtrain, iteration=i, fobj=obj)\n"
     ]
    }
   ],
   "source": [
    "rf = RandomForestClassifier(random_state=0)\n",
    "ada = AdaBoostClassifier(random_state=0)\n",
    "xgb = XGBClassifier(random_state=0, use_label_encoder=False, eval_metric='logloss')\n",
    "\n",
    "rf.fit(xtrain, ytrain)\n",
    "rf_train_acc = accuracy_score(ytrain, rf.predict(xtrain))\n",
    "rf_test_acc = accuracy_score(ytest, rf.predict(xtest))\n",
    "\n",
    "ada.fit(xtrain, ytrain)\n",
    "ada_train_acc = accuracy_score(ytrain, ada.predict(xtrain))\n",
    "ada_test_acc = accuracy_score(ytest, ada.predict(xtest))\n",
    "\n",
    "xgb.fit(xtrain, ytrain)\n",
    "xgb_train_acc = accuracy_score(ytrain, xgb.predict(xtrain))\n",
    "xgb_test_acc= accuracy_score(ytest, xgb.predict(xtest))\n",
    "\n",
    "# Compare Results\n",
    "results = pd.DataFrame({\n",
    "    'Model' : ['RF', 'ADA', 'XGB'],\n",
    "    'Training Accuracy' : [rf_train_acc, ada_train_acc, xgb_train_acc],\n",
    "    'Testing Accuracy' : [rf_test_acc, ada_test_acc, xgb_test_acc]\n",
    "})\n",
    "\n",
    "print(results)"
   ]
  }
 ],
 "metadata": {
  "kernelspec": {
   "display_name": "Python 3",
   "language": "python",
   "name": "python3"
  },
  "language_info": {
   "codemirror_mode": {
    "name": "ipython",
    "version": 3
   },
   "file_extension": ".py",
   "mimetype": "text/x-python",
   "name": "python",
   "nbconvert_exporter": "python",
   "pygments_lexer": "ipython3",
   "version": "3.12.5"
  }
 },
 "nbformat": 4,
 "nbformat_minor": 5
}
